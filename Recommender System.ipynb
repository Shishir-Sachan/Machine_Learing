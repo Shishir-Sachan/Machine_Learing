{
 "cells": [
  {
   "cell_type": "markdown",
   "id": "507499ce",
   "metadata": {},
   "source": [
    "# Recommender System\n",
    "\n",
    "What is the Technical Definition of Recommender System?\n",
    "\n",
    "* Recommended systems and personalized algorithms are frequently encountered in our daily lives and have incredible benefits for data scientists.\n",
    "\n",
    "* We can understand from the name, that recommender systems we allow the application to make personalized suggestions.\n",
    "\n",
    "* Recommendation Systems anticipate the future preferences of the user and reveal them.\n",
    "\n",
    "### Types\n",
    "\n",
    "* Popularity-Based\n",
    "* Calloborative Filtering\n",
    "* Content-Based Filtering\n",
    "* Hybrid"
   ]
  },
  {
   "cell_type": "code",
   "execution_count": null,
   "id": "83f2798b",
   "metadata": {},
   "outputs": [],
   "source": []
  }
 ],
 "metadata": {
  "kernelspec": {
   "display_name": "Python 3 (ipykernel)",
   "language": "python",
   "name": "python3"
  },
  "language_info": {
   "codemirror_mode": {
    "name": "ipython",
    "version": 3
   },
   "file_extension": ".py",
   "mimetype": "text/x-python",
   "name": "python",
   "nbconvert_exporter": "python",
   "pygments_lexer": "ipython3",
   "version": "3.10.9"
  }
 },
 "nbformat": 4,
 "nbformat_minor": 5
}
